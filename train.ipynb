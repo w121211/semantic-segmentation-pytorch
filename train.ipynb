{
 "cells": [
  {
   "cell_type": "code",
   "execution_count": 9,
   "metadata": {},
   "outputs": [
    {
     "name": "stdout",
     "output_type": "stream",
     "text": [
      "/workspace/semantic-segmentation-pytorch\n",
      "Get:1 http://security.ubuntu.com/ubuntu xenial-security InRelease [109 kB]\n",
      "Hit:2 http://archive.ubuntu.com/ubuntu xenial InRelease\u001b[0m\n",
      "Ign:3 https://developer.download.nvidia.com/compute/cuda/repos/ubuntu1604/x86_64  InRelease\n",
      "Get:4 http://archive.ubuntu.com/ubuntu xenial-updates InRelease [109 kB]\n",
      "Ign:5 https://developer.download.nvidia.com/compute/machine-learning/repos/ubuntu1604/x86_64  InRelease\n",
      "Hit:6 https://developer.download.nvidia.com/compute/cuda/repos/ubuntu1604/x86_64  Release\n",
      "Hit:7 https://developer.download.nvidia.com/compute/machine-learning/repos/ubuntu1604/x86_64  Release\n",
      "Get:10 http://archive.ubuntu.com/ubuntu xenial-backports InRelease [107 kB]    \u001b[0m\u001b[33m\u001b[33m\u001b[33m\u001b[33m\u001b[33m\n",
      "Fetched 325 kB in 2s (150 kB/s)0m   \u001b[0m\u001b[33m\u001b[33m\n",
      "Reading package lists... Done\n",
      "Building dependency tree       \n",
      "Reading state information... Done\n",
      "48 packages can be upgraded. Run 'apt list --upgradable' to see them.\n",
      "Reading package lists... Done\n",
      "Building dependency tree       \n",
      "Reading state information... Done\n",
      "wget is already the newest version (1.17.1-1ubuntu1.5).\n",
      "Suggested packages:\n",
      "  zip\n",
      "The following NEW packages will be installed:\n",
      "  unzip\n",
      "0 upgraded, 1 newly installed, 0 to remove and 48 not upgraded.\n",
      "Need to get 158 kB of archives.\n",
      "After this operation, 530 kB of additional disk space will be used.\n",
      "Get:1 http://archive.ubuntu.com/ubuntu xenial/main amd64 unzip amd64 6.0-20ubuntu1 [158 kB]\n",
      "Fetched 158 kB in 1s (98.2 kB/s)[0mm3m\u001b[33m\u001b[33m\n",
      "debconf: delaying package configuration, since apt-utils is not installed\n",
      "\n",
      "\u001b7\u001b[0;23r\u001b8\u001b[1ASelecting previously unselected package unzip.\n",
      "(Reading database ... 12601 files and directories currently installed.)\n",
      "Preparing to unpack .../unzip_6.0-20ubuntu1_amd64.deb ...\n",
      "\u001b7\u001b[24;0f\u001b[42m\u001b[30mProgress: [  0%]\u001b[49m\u001b[39m [..........................................................] \u001b8\u001b7\u001b[24;0f\u001b[42m\u001b[30mProgress: [ 16%]\u001b[49m\u001b[39m [##########................................................] \u001b8Unpacking unzip (6.0-20ubuntu1) ...\n",
      "\u001b7\u001b[24;0f\u001b[42m\u001b[30mProgress: [ 33%]\u001b[49m\u001b[39m [####################......................................] \u001b8\u001b7\u001b[24;0f\u001b[42m\u001b[30mProgress: [ 50%]\u001b[49m\u001b[39m [#############################.............................] \u001b8Setting up unzip (6.0-20ubuntu1) ...\n",
      "\u001b7\u001b[24;0f\u001b[42m\u001b[30mProgress: [ 66%]\u001b[49m\u001b[39m [#######################################...................] \u001b8\u001b7\u001b[24;0f\u001b[42m\u001b[30mProgress: [ 83%]\u001b[49m\u001b[39m [#################################################.........] \u001b8\n",
      "\u001b7\u001b[0;24r\u001b8\u001b[1A\u001b[J"
     ]
    }
   ],
   "source": [
    "%cd /workspace/semantic-segmentation-pytorch\n",
    "!apt update && apt install wget unzip -y\n",
    "# !conda install -c conda-forge yacs -y\n",
    "# !./demo_test.sh\n",
    "# !python -u test.py --imgs=/workspace/CRAFT-pytorch/mydataset/train/images --gpu=0 --cfg=config/ade20k-resnet50dilated-ppm_deepsup.yaml"
   ]
  },
  {
   "cell_type": "code",
   "execution_count": 12,
   "metadata": {},
   "outputs": [
    {
     "name": "stdout",
     "output_type": "stream",
     "text": [
      "/workspace/semantic-segmentation-pytorch\n",
      "[2020-01-05 07:23:06,255 INFO train.py line 240 1192] Loaded configuration file config/ade20k-mobilenetv2dilated-c1_deepsup.yaml\n",
      "[2020-01-05 07:23:06,255 INFO train.py line 241 1192] Running with config:\n",
      "DATASET:\n",
      "  imgMaxSize: 1000\n",
      "  imgSizes: (300, 375, 450, 525, 600)\n",
      "  list_train: ./data/training.odgt\n",
      "  list_val: ./data/validation.odgt\n",
      "  num_class: 150\n",
      "  padding_constant: 8\n",
      "  random_flip: True\n",
      "  root_dataset: ./data/\n",
      "  segm_downsampling_rate: 8\n",
      "DIR: ckpt/ade20k-mobilenetv2dilated-c1_deepsup\n",
      "MODEL:\n",
      "  arch_decoder: c1_deepsup\n",
      "  arch_encoder: mobilenetv2dilated\n",
      "  fc_dim: 320\n",
      "  weights_decoder: \n",
      "  weights_encoder: \n",
      "TEST:\n",
      "  batch_size: 1\n",
      "  checkpoint: epoch_20.pth\n",
      "  result: ./\n",
      "TRAIN:\n",
      "  batch_size_per_gpu: 3\n",
      "  beta1: 0.9\n",
      "  deep_sup_scale: 0.4\n",
      "  disp_iter: 20\n",
      "  epoch_iters: 5000\n",
      "  fix_bn: False\n",
      "  lr_decoder: 0.02\n",
      "  lr_encoder: 0.02\n",
      "  lr_pow: 0.9\n",
      "  num_epoch: 20\n",
      "  optim: SGD\n",
      "  seed: 304\n",
      "  start_epoch: 0\n",
      "  weight_decay: 0.0001\n",
      "  workers: 16\n",
      "VAL:\n",
      "  batch_size: 1\n",
      "  checkpoint: epoch_20.pth\n",
      "  visualize: False\n",
      "[2020-01-05 07:23:06,259 INFO train.py line 246 1192] Outputing checkpoints to: ckpt/ade20k-mobilenetv2dilated-c1_deepsup\n",
      "Downloading: \"http://sceneparsing.csail.mit.edu/model/pretrained_resnet/mobilenet_v2.pth.tar\" to ./pretrained/mobilenet_v2.pth.tar\n",
      "Traceback (most recent call last):\n",
      "  File \"train.py\", line 273, in <module>\n",
      "    main(cfg, gpus)\n",
      "  File \"train.py\", line 147, in main\n",
      "    weights=cfg.MODEL.weights_encoder)\n",
      "  File \"/workspace/semantic-segmentation-pytorch/models/models.py\", line 69, in build_encoder\n",
      "    orig_mobilenet = mobilenet.__dict__['mobilenetv2'](pretrained=pretrained)\n",
      "  File \"/workspace/semantic-segmentation-pytorch/models/mobilenet.py\", line 153, in mobilenetv2\n",
      "    model.load_state_dict(load_url(model_urls['mobilenetv2']), strict=False)\n",
      "  File \"/workspace/semantic-segmentation-pytorch/models/utils.py\", line 18, in load_url\n",
      "    return torch.load(cached_file, map_location=map_location)\n",
      "  File \"/opt/conda/lib/python3.6/site-packages/torch/serialization.py\", line 386, in load\n",
      "    return _load(f, map_location, pickle_module, **pickle_load_args)\n",
      "  File \"/opt/conda/lib/python3.6/site-packages/torch/serialization.py\", line 573, in _load\n",
      "    result = unpickler.load()\n",
      "  File \"/opt/conda/lib/python3.6/site-packages/torch/serialization.py\", line 536, in persistent_load\n",
      "    deserialized_objects[root_key] = restore_location(obj, location)\n",
      "  File \"/opt/conda/lib/python3.6/site-packages/torch/serialization.py\", line 119, in default_restore_location\n",
      "    result = fn(storage, location)\n",
      "  File \"/opt/conda/lib/python3.6/site-packages/torch/serialization.py\", line 95, in _cuda_deserialize\n",
      "    device = validate_cuda_device(location)\n",
      "  File \"/opt/conda/lib/python3.6/site-packages/torch/serialization.py\", line 79, in validate_cuda_device\n",
      "    raise RuntimeError('Attempting to deserialize object on a CUDA '\n",
      "RuntimeError: Attempting to deserialize object on a CUDA device but torch.cuda.is_available() is False. If you are running on a CPU-only machine, please use torch.load with map_location=torch.device('cpu') to map your storages to the CPU.\n"
     ]
    }
   ],
   "source": [
    "%cd /workspace/semantic-segmentation-pytorch\n",
    "# !./download_ADE20K.sh\n",
    "!python train.py --gpus 0 --cfg config/ade20k-mobilenetv2dilated-c1_deepsup.yaml"
   ]
  }
 ],
 "metadata": {
  "kernelspec": {
   "display_name": "Python 3",
   "language": "python",
   "name": "python3"
  },
  "language_info": {
   "codemirror_mode": {
    "name": "ipython",
    "version": 3
   },
   "file_extension": ".py",
   "mimetype": "text/x-python",
   "name": "python",
   "nbconvert_exporter": "python",
   "pygments_lexer": "ipython3",
   "version": "3.6.9"
  }
 },
 "nbformat": 4,
 "nbformat_minor": 2
}
